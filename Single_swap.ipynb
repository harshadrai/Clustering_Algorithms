{
 "cells": [
  {
   "cell_type": "markdown",
   "metadata": {},
   "source": [
    "# This code represents an implementation of the Single Swap Hueristic without using libraries that would give us the cluster centers directly"
   ]
  },
  {
   "cell_type": "code",
   "execution_count": 1,
   "metadata": {
    "collapsed": true
   },
   "outputs": [],
   "source": [
    "#Importing libraries\n",
    "import pandas as pd\n",
    "import numpy as np\n",
    "import matplotlib.pyplot as plt\n",
    "from sklearn.metrics.pairwise import euclidean_distances"
   ]
  },
  {
   "cell_type": "code",
   "execution_count": 2,
   "metadata": {
    "collapsed": true
   },
   "outputs": [],
   "source": [
    "#This cell is for initialization using Greedy k-Means\n",
    "def read_df( path ):\n",
    "    return pd.read_csv( path, header = None )\n",
    "\n",
    "def get_index( temp_df, C ):\n",
    "    #Get the min euclidean distance of each row in temp_df from all centers in C\n",
    "    distanceVector = np.amin( euclidean_distances( temp_df, C ), axis=1 )\n",
    "    \n",
    "    #Return the index of the row having maximum minimum euclidean distance\n",
    "    return np.argmax(distanceVector)\n",
    "\n",
    "def greedy_kcenters( df, k ):\n",
    "    \n",
    "    #Create copy of original dataframe\n",
    "    temp_df = df.copy()\n",
    "    \n",
    "    #Initialize the first center\n",
    "    C = df.sample( 1 )\n",
    "    \n",
    "    #Remove this sample from df so that it does not come in further calculations\n",
    "    temp_df.drop(C.index,inplace = True)\n",
    "    #and change indices to 0,1,2,...,n-1\n",
    "    temp_df.index = list( range( temp_df.shape[0] ) )\n",
    "    \n",
    "    while C.shape[0] < k:\n",
    "        \n",
    "        #Get index of data point that has maximum minimum distance from any center\n",
    "        ind = get_index( temp_df, C )\n",
    "        \n",
    "        #Append data in temp_df at index ind into C\n",
    "        C = C.append( temp_df.loc[ind] )\n",
    "        \n",
    "        #Remove that row from temp_df\n",
    "        temp_df.drop(ind,inplace = True)\n",
    "        #and change indices to 0,1,2,...,n-1\n",
    "        temp_df.index = list( range( temp_df.shape[0] ) )\n",
    "    \n",
    "    #Delete temp_df so that it does not take space\n",
    "    del temp_df\n",
    "    \n",
    "    #Return centers and final objective function value\n",
    "    return( C, np.amax(np.amin(euclidean_distances( df, C ), axis=1 )) )"
   ]
  },
  {
   "cell_type": "code",
   "execution_count": 3,
   "metadata": {
    "collapsed": true
   },
   "outputs": [],
   "source": [
    "def get_cost( df, Q_new ):\n",
    "    \n",
    "    #Get the min euclidean distance of each row in temp_df from all centers in C\n",
    "    distanceVector = np.amin( euclidean_distances( df, Q_new ), axis=1 )\n",
    "    \n",
    "    #Return the index of the row having maximum minimum euclidean distance\n",
    "    return np.amax(distanceVector)\n",
    "\n",
    "#Get the distance matrix for the dataframe and centers\n",
    "#distanceMatrix = euclidean_distances( df, Q_ )\n",
    "    \n",
    "#Return the sum of minimum distances\n",
    "#return pd.DataFrame(distanceMatrix).min(axis=1).sum()'''"
   ]
  },
  {
   "cell_type": "code",
   "execution_count": 4,
   "metadata": {
    "collapsed": true
   },
   "outputs": [],
   "source": [
    "def single_swap( path, k ):\n",
    "    \n",
    "    #Reading the file\n",
    "    df = read_df( path )\n",
    "    \n",
    "    #Get the centers using the Greedy k Centers algorithm\n",
    "    Q , useless_dist = greedy_kcenters( df, k )\n",
    "    del useless_dist\n",
    "    \n",
    "    #Compute cost of solution\n",
    "    C0 = get_cost( df, Q )\n",
    "    print(\"Greedy k-means cost= \", C0)\n",
    "    \n",
    "    #Create a counter for number of centers\n",
    "    cent_count = Q.shape[0]\n",
    "    \n",
    "    back2begin = False\n",
    "    \n",
    "    while cent_count > 0:\n",
    "        \n",
    "        for i in range( Q.shape[0] ):  \n",
    "            if back2begin == True:\n",
    "                back2begin = False\n",
    "                break\n",
    "                \n",
    "            #Create a copy of the dataframe df without the centers Q\n",
    "            temp_df = pd.concat( [df,Q] )\n",
    "            temp_df.drop_duplicates(keep=False)\n",
    "            temp_df.index = list( range( temp_df.shape[0] ) )\n",
    "            \n",
    "            #Swap\n",
    "            while temp_df.shape[0] != 0:\n",
    "                Q_new = pd.concat( [ Q.drop(Q.index[i]), temp_df.loc[[0]] ] )\n",
    "                \n",
    "                #Get cost of new centers\n",
    "                C_new = get_cost( df, Q_new )\n",
    "\n",
    "                #Check if cost reduced by more than 1-gamma, where gamma = 0.05\n",
    "                if C_new <= 0.95 * C0:\n",
    "                    print('Swapping')\n",
    "                    Q = Q_new.copy()\n",
    "                    print(\"Cost after swapping = \", C_new)\n",
    "                    #temp_df = pd.concat( [df,Q] )\n",
    "                    #temp_df.drop_duplicates(keep=False)\n",
    "                    #temp_df.index = list( range( temp_df.shape[0] ) )\n",
    "                    back2begin = True\n",
    "                    cent_count = Q.shape[0] \n",
    "                    C0 = C_new\n",
    "                    break\n",
    "                else:\n",
    "                    temp_df.drop(0, inplace=True)\n",
    "                    temp_df.index = list( range( temp_df.shape[0] ) )\n",
    "            if back2begin == False:\n",
    "                print(cent_count)\n",
    "                cent_count -= 1\n",
    "    \n",
    "    #Return the centers\n",
    "    return( Q )"
   ]
  },
  {
   "cell_type": "code",
   "execution_count": 7,
   "metadata": {},
   "outputs": [
    {
     "name": "stdout",
     "output_type": "stream",
     "text": [
      "Greedy k-means cost=  5.52884398767\n",
      "Swapping\n",
      "Cost after swapping =  5.23297731851\n",
      "2\n",
      "1\n"
     ]
    }
   ],
   "source": [
    "centers = single_swap(\"clustering.csv\", 2)"
   ]
  },
  {
   "cell_type": "code",
   "execution_count": 8,
   "metadata": {},
   "outputs": [
    {
     "data": {
      "image/png": "[encoded data removed]",
      "text/plain": [
       "<matplotlib.figure.Figure at 0x23785b49e48>"
      ]
     },
     "metadata": {},
     "output_type": "display_data"
    }
   ],
   "source": [
    "trial_df = pd.read_csv(\"clustering.csv\", header=None)\n",
    "plt.scatter(trial_df[0], trial_df[1])\n",
    "plt.scatter(centers[0],centers[1], marker = \"X\", color = ['black', 'red'], s =80)\n",
    "plt.show()"
   ]
  },
  {
   "cell_type": "code",
   "execution_count": 9,
   "metadata": {},
   "outputs": [
    {
     "name": "stdout",
     "output_type": "stream",
     "text": [
      "Greedy k-means cost=  4.50907511386\n",
      "4\n",
      "3\n",
      "Swapping\n",
      "Cost after swapping =  3.8890286705\n",
      "4\n",
      "3\n",
      "2\n",
      "1\n"
     ]
    }
   ],
   "source": [
    "centers = single_swap(\"ShapedData.csv\", 4)"
   ]
  },
  {
   "cell_type": "code",
   "execution_count": 10,
   "metadata": {},
   "outputs": [
    {
     "data": {
      "image/png": "[encoded data removed]",
      "text/plain": [
       "<matplotlib.figure.Figure at 0x23786bf36d8>"
      ]
     },
     "metadata": {},
     "output_type": "display_data"
    }
   ],
   "source": [
    "trial_df = pd.read_csv(\"ShapedData.csv\", header=None)\n",
    "plt.scatter(trial_df[0], trial_df[1])\n",
    "plt.scatter(centers[0],centers[1], marker = \"X\", color = ['blue', 'green','black','red'], s =80)\n",
    "plt.show()"
   ]
  }
 ],
 "metadata": {
  "kernelspec": {
   "display_name": "Python [default]",
   "language": "python",
   "name": "python3"
  },
  "language_info": {
   "codemirror_mode": {
    "name": "ipython",
    "version": 3
   },
   "file_extension": ".py",
   "mimetype": "text/x-python",
   "name": "python",
   "nbconvert_exporter": "python",
   "pygments_lexer": "ipython3",
   "version": "3.5.3"
  }
 },
 "nbformat": 4,
 "nbformat_minor": 2
}
